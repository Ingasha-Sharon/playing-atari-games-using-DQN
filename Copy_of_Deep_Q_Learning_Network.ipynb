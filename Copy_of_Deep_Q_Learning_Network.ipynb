{
  "cells": [
    {
      "cell_type": "markdown",
      "metadata": {
        "id": "view-in-github",
        "colab_type": "text"
      },
      "source": [
        "<a href=\"https://colab.research.google.com/github/Ingasha-Sharon/playing-atari-games-using-DQN/blob/main/Copy_of_Deep_Q_Learning_Network.ipynb\" target=\"_parent\"><img src=\"https://colab.research.google.com/assets/colab-badge.svg\" alt=\"Open In Colab\"/></a>"
      ]
    },
    {
      "metadata": {
        "_uuid": "8f2839f25d086af736a60e9eeb907d3b93b6e0e5",
        "_cell_guid": "b1076dfc-b9ad-4769-8c92-a6c4dae69d19",
        "trusted": true,
        "id": "aCUUlrqKThkt"
      },
      "cell_type": "markdown",
      "source": [
        "# Playing Atari Games with DQN\n",
        "\n",
        "---\n",
        "\n",
        "## From Q-table to Q-network\n",
        "\n",
        "Last time, we learned about Q-Learning: an algorithm which produces a Q-table that an agent uses to find the best action to take given a state. The Q-table as a “cheat-sheet” helps us to find the maximum expected future reward of an action, given a current state. This was a good strategy — however, this is not scalable. As we see, producing and updating a Q-table can become ineffective in big state space environments.\n",
        "\n",
        "Today, we’ll create a Deep Q Neural Network. Instead of using a Q-table, we’ll implement a Neural Network that takes a state and approximates Q-values for each action based on that state.\n",
        "\n",
        "![](https://storage.googleapis.com/kagglesdsdata/datasets/374075/727251/table_vs_nn.png?GoogleAccessId=web-data@kaggle-161607.iam.gserviceaccount.com&Expires=1570784358&Signature=GVurCrQRQzuycfpyE4eH0WxvmDyW3dnwlsjaaFGy0GhjoK2g5zId35gqs6BvvooMNw0C1f0vd85CAgD9jtNmFZTjRkGOWTHY6Fz2iMppIjvQrDoAyUbTXLT9iLXPbyuq6u9llIFUEkBsbHFoEf4lllaeAn16r%2FzwuPfLlfTvyh7Q1CcZvy%2B1ItkXpmXMS9FYZhFyPqnr4QEDMgF%2BR3XvLWMBWnOSF2lm77ts8hCAgMb%2BX43mWxQJaeuJYne9AS7mgPeNB8HyGvWCsFeqxTkVjPW2n1CvTK5outywjN0N62xfsWJGOJ67c3FXVOGS99QM8N7jrLrBKNuQRFWshot48w%3D%3D)\n",
        "\n",
        "## A Quick View into DQN\n",
        "\n",
        "The picture below will be the architecture of our Deep Q Learning. Our Deep Q Neural Network takes a stack of four frames as an input. These pass through its network, and output a vector of Q-values for each action possible in the given state. We need to take the biggest Q-value of this vector to find our best action.\n",
        "\n",
        "In the beginning, the agent does really badly. But over time, it begins to associate frames (states) with best actions to do.\n",
        "\n",
        "![](https://storage.googleapis.com/kagglesdsdata/datasets/374075/727251/dqn.png?GoogleAccessId=web-data@kaggle-161607.iam.gserviceaccount.com&Expires=1570784374&Signature=BvkSaSeYYF7mewjUCEu2c4aLL7rI1GiX%2BZGMUtlzcKNjaJo6%2BWVYlXbJEBroP0H6WwXP8WAGiK5PKAELMfwHkRwI1mauItwfpqciISG99anrujXZK6%2FUPZeulTGk7Wn0oSUxeCRk3%2F1Mc4gbCjeSZE92L%2Fhgqdi71bidp2kwrhxbI9eFuefJ0lf5wEImmgsetChduJktg1WvCObcr66PZZIJcGWnYbRzuboHFxXkyXgmA0ZmzYs5UdQgMs23Bu219O2L%2Bee5PSu5QIVjN1A7Ni3f9en5pPYoOWOZzVXI%2BeM0pdHZ6LS9eN%2F%2FoYDGMWy2wa5ISrJMA1hl9A9RDm1XCQ%3D%3D)\n",
        "\n",
        "**paper**: https://www.cs.toronto.edu/~vmnih/docs/dqn.pdf"
      ]
    },
    {
      "cell_type": "code",
      "source": [],
      "metadata": {
        "id": "vBH92i1_GFNr"
      },
      "execution_count": null,
      "outputs": []
    },
    {
      "metadata": {
        "_uuid": "d629ff2d2480ee46fbb7e2d37f6b5fab8052498a",
        "_cell_guid": "79c7e3d0-c299-4dcb-8224-4455121ee9b0",
        "trusted": true,
        "id": "HczusvMUThk2"
      },
      "cell_type": "code",
      "source": [
        "import numpy as np\n",
        "import tensorflow as tf\n",
        "import gym\n",
        "import matplotlib.pyplot as plt\n",
        "import os\n",
        "import cv2 as cv\n",
        "\n",
        "os.environ['TF_CPP_MIN_LOG_LEVEL'] = '3'\n",
        "\n",
        "%matplotlib inline"
      ],
      "execution_count": null,
      "outputs": []
    },
    {
      "metadata": {
        "id": "UoY1dP3_Thk5"
      },
      "cell_type": "markdown",
      "source": [
        "## OpenAI Gym and Atari Game\n",
        "\n",
        "https://github.com/openai/gym\n",
        "\n",
        "Gym is a toolkit for developing and comparing reinforcement learning algorithms. It supports teaching agents everything from walking to playing games like Pong or Pinball.\n",
        "\n",
        "The Atari 2600 (or Atari Video Computer System or Atari VCS before November 1982) is a home video game console from Atari, Inc. Released on September 11, 1977.\n",
        "\n",
        "![](https://storage.googleapis.com/kagglesdsdata/datasets/374075/727251/ready_one.png?GoogleAccessId=web-data@kaggle-161607.iam.gserviceaccount.com&Expires=1570784396&Signature=H4IsWaeuo%2BgQkO%2FFf1i039OmtQGmlsNgw91VshldUbBGqiH0QpUXSyEg6VFJMPURMlIsVQlNin4ukuhnmp0XFufDPGsF7Ov7r1ztfS2srVzrMOnc3PKfYg%2FtBTBdY83%2FoQ%2FRdimPle0VzRYxFWzF7VuBDcGPmYwfFsrkTPphPoKDMLOSuGJ92Jl%2Flk2n9qUDz1vdOudNUFO5E%2BwsyqSt8Efd3QcJVaLOzKzaiWxg4rokIids15Hw2j0Hz4MXnmb6JTGE8QXOAJq%2BGxAIZOGVQwqe%2BLWcmIo6XBEdLxTFQJht09BrVHqqnSKtJDpH8rTONSdmbSppwZYul5%2FoDJxtgw%3D%3D)"
      ]
    },
    {
      "metadata": {
        "trusted": true,
        "id": "fb1kPTvEThk6",
        "colab": {
          "base_uri": "https://localhost:8080/",
          "height": 341
        },
        "outputId": "fc3b8b5e-297b-4c2f-a2a0-09bd0e76c0d7"
      },
      "cell_type": "code",
      "source": [
        "# for atari game support\n",
        "!pip install gym[atari]"
      ],
      "execution_count": null,
      "outputs": [
        {
          "output_type": "stream",
          "name": "stderr",
          "text": [
            "/usr/local/lib/python3.10/dist-packages/ipykernel/ipkernel.py:283: DeprecationWarning: `should_run_async` will not call `transform_cell` automatically in the future. Please pass the result to `transformed_cell` argument and any exception that happen during thetransform in `preprocessing_exc_tuple` in IPython 7.17 and above.\n",
            "  and should_run_async(code)\n"
          ]
        },
        {
          "output_type": "stream",
          "name": "stdout",
          "text": [
            "Requirement already satisfied: gym[atari] in /usr/local/lib/python3.10/dist-packages (0.25.2)\n",
            "Requirement already satisfied: numpy>=1.18.0 in /usr/local/lib/python3.10/dist-packages (from gym[atari]) (1.25.2)\n",
            "Requirement already satisfied: cloudpickle>=1.2.0 in /usr/local/lib/python3.10/dist-packages (from gym[atari]) (2.2.1)\n",
            "Requirement already satisfied: gym-notices>=0.0.4 in /usr/local/lib/python3.10/dist-packages (from gym[atari]) (0.0.8)\n",
            "Collecting ale-py~=0.7.5 (from gym[atari])\n",
            "  Downloading ale_py-0.7.5-cp310-cp310-manylinux_2_17_x86_64.manylinux2014_x86_64.whl (1.6 MB)\n",
            "\u001b[2K     \u001b[90m━━━━━━━━━━━━━━━━━━━━━━━━━━━━━━━━━━━━━━━━\u001b[0m \u001b[32m1.6/1.6 MB\u001b[0m \u001b[31m6.8 MB/s\u001b[0m eta \u001b[36m0:00:00\u001b[0m\n",
            "\u001b[?25hRequirement already satisfied: importlib-resources in /usr/local/lib/python3.10/dist-packages (from ale-py~=0.7.5->gym[atari]) (6.4.0)\n",
            "Installing collected packages: ale-py\n",
            "Successfully installed ale-py-0.7.5\n"
          ]
        },
        {
          "output_type": "display_data",
          "data": {
            "application/vnd.colab-display-data+json": {
              "pip_warning": {
                "packages": [
                  "gym"
                ]
              },
              "id": "5c3debdc28484a9795c1a960122d9e39"
            }
          },
          "metadata": {}
        }
      ]
    },
    {
      "cell_type": "code",
      "source": [
        "!pip install gym[accept-rom-license]"
      ],
      "metadata": {
        "colab": {
          "base_uri": "https://localhost:8080/"
        },
        "id": "MfP2jBNxUT-f",
        "outputId": "0bd6d6f7-85b5-4700-ef48-bbfb2ba2def5"
      },
      "execution_count": null,
      "outputs": [
        {
          "output_type": "stream",
          "name": "stdout",
          "text": [
            "Requirement already satisfied: gym[accept-rom-license] in /usr/local/lib/python3.10/dist-packages (0.25.2)\n",
            "Requirement already satisfied: numpy>=1.18.0 in /usr/local/lib/python3.10/dist-packages (from gym[accept-rom-license]) (1.25.2)\n",
            "Requirement already satisfied: cloudpickle>=1.2.0 in /usr/local/lib/python3.10/dist-packages (from gym[accept-rom-license]) (2.2.1)\n",
            "Requirement already satisfied: gym-notices>=0.0.4 in /usr/local/lib/python3.10/dist-packages (from gym[accept-rom-license]) (0.0.8)\n",
            "Collecting autorom[accept-rom-license]~=0.4.2 (from gym[accept-rom-license])\n",
            "  Downloading AutoROM-0.4.2-py3-none-any.whl (16 kB)\n",
            "Requirement already satisfied: click in /usr/local/lib/python3.10/dist-packages (from autorom[accept-rom-license]~=0.4.2->gym[accept-rom-license]) (8.1.7)\n",
            "Requirement already satisfied: requests in /usr/local/lib/python3.10/dist-packages (from autorom[accept-rom-license]~=0.4.2->gym[accept-rom-license]) (2.31.0)\n",
            "Requirement already satisfied: tqdm in /usr/local/lib/python3.10/dist-packages (from autorom[accept-rom-license]~=0.4.2->gym[accept-rom-license]) (4.66.4)\n",
            "Collecting AutoROM.accept-rom-license (from autorom[accept-rom-license]~=0.4.2->gym[accept-rom-license])\n",
            "  Downloading AutoROM.accept-rom-license-0.6.1.tar.gz (434 kB)\n",
            "\u001b[2K     \u001b[90m━━━━━━━━━━━━━━━━━━━━━━━━━━━━━━━━━━━━━━━━\u001b[0m \u001b[32m434.7/434.7 kB\u001b[0m \u001b[31m11.2 MB/s\u001b[0m eta \u001b[36m0:00:00\u001b[0m\n",
            "\u001b[?25h  Installing build dependencies ... \u001b[?25l\u001b[?25hdone\n",
            "  Getting requirements to build wheel ... \u001b[?25l\u001b[?25hdone\n",
            "  Preparing metadata (pyproject.toml) ... \u001b[?25l\u001b[?25hdone\n",
            "Requirement already satisfied: charset-normalizer<4,>=2 in /usr/local/lib/python3.10/dist-packages (from requests->autorom[accept-rom-license]~=0.4.2->gym[accept-rom-license]) (3.3.2)\n",
            "Requirement already satisfied: idna<4,>=2.5 in /usr/local/lib/python3.10/dist-packages (from requests->autorom[accept-rom-license]~=0.4.2->gym[accept-rom-license]) (3.7)\n",
            "Requirement already satisfied: urllib3<3,>=1.21.1 in /usr/local/lib/python3.10/dist-packages (from requests->autorom[accept-rom-license]~=0.4.2->gym[accept-rom-license]) (2.0.7)\n",
            "Requirement already satisfied: certifi>=2017.4.17 in /usr/local/lib/python3.10/dist-packages (from requests->autorom[accept-rom-license]~=0.4.2->gym[accept-rom-license]) (2024.6.2)\n",
            "Building wheels for collected packages: AutoROM.accept-rom-license\n",
            "  Building wheel for AutoROM.accept-rom-license (pyproject.toml) ... \u001b[?25l\u001b[?25hdone\n",
            "  Created wheel for AutoROM.accept-rom-license: filename=AutoROM.accept_rom_license-0.6.1-py3-none-any.whl size=446662 sha256=f4d1f094de3b697f6754f8678cc498bdf5459acf203baea60abd2dde4dfb0922\n",
            "  Stored in directory: /root/.cache/pip/wheels/6b/1b/ef/a43ff1a2f1736d5711faa1ba4c1f61be1131b8899e6a057811\n",
            "Successfully built AutoROM.accept-rom-license\n",
            "Installing collected packages: AutoROM.accept-rom-license, autorom\n",
            "Successfully installed AutoROM.accept-rom-license-0.6.1 autorom-0.4.2\n"
          ]
        }
      ]
    },
    {
      "metadata": {
        "trusted": true,
        "id": "Y2mwgoX6Thk6",
        "colab": {
          "base_uri": "https://localhost:8080/",
          "height": 610
        },
        "outputId": "986a69cf-225c-4d2a-ae98-ccf071da0e69"
      },
      "cell_type": "code",
      "source": [
        "import gym # Import the gym module\n",
        "import matplotlib.pyplot as plt # Import matplotlib\n",
        "\n",
        "env = gym.make('BreakoutDeterministic-v4')\n",
        "\n",
        "frame = env.reset()\n",
        "plt.figure() # Now plt is defined in this cell\n",
        "plt.imshow(frame)\n",
        "\n",
        "totalActions = env.action_space.n\n",
        "\n",
        "print(\"Shape = \",frame.shape)\n",
        "print(\"Action space size: Action  {}\".format(totalActions))\n",
        "print(env.unwrapped.get_action_meanings())\n",
        "\n",
        "env.close()"
      ],
      "execution_count": null,
      "outputs": [
        {
          "output_type": "stream",
          "name": "stderr",
          "text": [
            "/usr/local/lib/python3.10/dist-packages/ipykernel/ipkernel.py:283: DeprecationWarning: `should_run_async` will not call `transform_cell` automatically in the future. Please pass the result to `transformed_cell` argument and any exception that happen during thetransform in `preprocessing_exc_tuple` in IPython 7.17 and above.\n",
            "  and should_run_async(code)\n",
            "/usr/local/lib/python3.10/dist-packages/gym/core.py:317: DeprecationWarning: \u001b[33mWARN: Initializing wrapper in old step API which returns one bool instead of two. It is recommended to set `new_step_api=True` to use new step API. This will be the default behaviour in future.\u001b[0m\n",
            "  deprecation(\n",
            "/usr/local/lib/python3.10/dist-packages/gym/wrappers/step_api_compatibility.py:39: DeprecationWarning: \u001b[33mWARN: Initializing environment in old step API which returns one bool instead of two. It is recommended to set `new_step_api=True` to use new step API. This will be the default behaviour in future.\u001b[0m\n",
            "  deprecation(\n"
          ]
        },
        {
          "output_type": "stream",
          "name": "stdout",
          "text": [
            "Shape =  (210, 160, 3)\n",
            "Action space size: Action  4\n",
            "['NOOP', 'FIRE', 'RIGHT', 'LEFT']\n"
          ]
        },
        {
          "output_type": "display_data",
          "data": {
            "text/plain": [
              "<Figure size 640x480 with 1 Axes>"
            ],
            "image/png": "[encoded data removed]"
          },
          "metadata": {}
        }
      ]
    },
    {
      "metadata": {
        "id": "YiZIllXQThk7"
      },
      "cell_type": "markdown",
      "source": [
        "## Frame Preprocessing\n",
        "\n",
        "Preprocessing is an important step. We want to reduce the complexity of our states to reduce the computation time needed for training.\n",
        "\n",
        "First, we can grayscale each of our states. Color does not add important information (in our case, we just need to find the enemy and kill him, and we don’t need color to find him). This is an important saving, since we reduce our three colors channels (RGB) to 1 (grayscale).\n",
        "\n",
        "Then we reduce the size of the frame, and we stack four sub-frames together. The stack operation will be done later in our code.\n",
        "\n",
        "Why use stack? -- Can you tell me where the ball is going if not use stack?\n",
        "\n",
        "![](https://storage.googleapis.com/kagglesdsdata/datasets/374075/727251/frame_pre.png?GoogleAccessId=web-data@kaggle-161607.iam.gserviceaccount.com&Expires=1570784420&Signature=VlN%2FdN38dBvU8Xlf2A16Ghzdk2XPSeKSk6D%2BuyR6fPrJhIQoqPR9UoYAdb1D1dQ0Qo8hte2VQA%2FUnbf5LICL%2FfUfcgV7Syr4VE3zWJbmEUjYEq7zatijHXJKKYeK6aobdzNpOgjUqQefjbI5%2B%2Be4wzeUguKuQZ7MWdPG23hDbaAQrNlXk5s%2BxcUMYOVCk3NjAvXOOkXzE6HFXoDOeSxI7O2DAw2xP%2BOh3FP1xfb0IkQ4OTbplLo85b9uRZfnIXT8ZhYcbefYYKqrMeDIbv3VWBDES3tn2vc0%2B4W%2BnSvHU%2FBiB78dP71GlMSjH1UVH%2FZi2yhydeLNLpSmK2aN2inNhw%3D%3D)"
      ]
    },
    {
      "metadata": {
        "trusted": true,
        "id": "IzKygxR-Thk8"
      },
      "cell_type": "code",
      "source": [
        "def preprocess(img):\n",
        "    grayImg = cv.cvtColor(img,cv.COLOR_BGR2GRAY)\n",
        "    resized = cv.resize(grayImg,(84,110))\n",
        "    preProcessedImg = resized[:84,:84]\n",
        "\n",
        "    return preProcessedImg"
      ],
      "execution_count": null,
      "outputs": []
    },
    {
      "metadata": {
        "trusted": true,
        "id": "rGv0C7lMThk-",
        "colab": {
          "base_uri": "https://localhost:8080/",
          "height": 411
        },
        "outputId": "70924767-46f2-4be2-b419-36fd9e885407"
      },
      "cell_type": "code",
      "source": [
        "!pip install opencv-python\n",
        "import cv2 # Import OpenCV\n",
        "import matplotlib.pyplot as plt # Import matplotlib\n",
        "\n",
        "fig = plt.figure(figsize=(8,8))\n",
        "\n",
        "# Remove the first definition of preprocess\n",
        "\n",
        "def preprocess(img):\n",
        "    grayImg = cv2.cvtColor(img,cv2.COLOR_BGR2GRAY) # Use cv2 for OpenCV functions\n",
        "    resized = cv2.resize(grayImg,(84,110))\n",
        "    preProcessedImg = resized[:84,:84]\n",
        "\n",
        "    return preProcessedImg\n",
        "\n",
        "newFrame = preprocess(frame)\n",
        "print(newFrame.shape,newFrame.dtype)\n",
        "\n",
        "fig.add_subplot(1,3,1)\n",
        "plt.imshow(newFrame)\n",
        "\n",
        "fig.add_subplot(1,3,2)\n",
        "plt.imshow(frame)\n",
        "plt.show()"
      ],
      "execution_count": null,
      "outputs": [
        {
          "output_type": "stream",
          "name": "stderr",
          "text": [
            "/usr/local/lib/python3.10/dist-packages/ipykernel/ipkernel.py:283: DeprecationWarning: `should_run_async` will not call `transform_cell` automatically in the future. Please pass the result to `transformed_cell` argument and any exception that happen during thetransform in `preprocessing_exc_tuple` in IPython 7.17 and above.\n",
            "  and should_run_async(code)\n"
          ]
        },
        {
          "output_type": "stream",
          "name": "stdout",
          "text": [
            "Requirement already satisfied: opencv-python in /usr/local/lib/python3.10/dist-packages (4.8.0.76)\n",
            "Requirement already satisfied: numpy>=1.21.2 in /usr/local/lib/python3.10/dist-packages (from opencv-python) (1.25.2)\n",
            "(84, 84) uint8\n"
          ]
        },
        {
          "output_type": "display_data",
          "data": {
            "text/plain": [
              "<Figure size 800x800 with 2 Axes>"
            ],
            "image/png": "[encoded data removed]"
          },
          "metadata": {}
        }
      ]
    },
    {
      "metadata": {
        "id": "keatSBADThlA"
      },
      "cell_type": "markdown",
      "source": [
        "## Using Convolution Networks\n",
        "\n",
        "The frames are processed by three convolution layers. These layers allow you to exploit spatial relationships in images. But also, because frames are stacked together, you can exploit some spatial properties across those frames.\n",
        "\n",
        "Each convolution layer will use RELU as an activation function. RELU has been proven to be a good activation function for convolution layers.\n",
        "\n",
        "We use one fully connected layer with RELU activation function and one output layer (a fully connected layer with a linear activation function) that produces the Q-value estimation for each action.\n",
        "\n",
        "![](https://storage.googleapis.com/kagglesdsdata/datasets/374075/727251/nature.png?GoogleAccessId=web-data@kaggle-161607.iam.gserviceaccount.com&Expires=1570784442&Signature=HrYvJRejLdxXCwiig8OReZSuFpirObQM0xuTGXi7vZexi5DbGmz3ST15%2FfxGFvYrqNZQRCS45Z5NK%2BEhqo2PNWbJOg%2BKxnYRF%2BIl%2FyVNThHTs6VypDx5oHCC1B9wmgwpv5sRii60hvqbNHEK1sHdgdvTHePmHuJ8vTLBKxOTv1b1qM6%2B%2FT4xks9x98g5gfa8LXtqvrOt3tRQ1Ou2sT6sCyco3KDsQidRSTEn6JWsX2zhbsD0q6g4IidMxr4crv4hWszoXhOxzwK0BeqCdWUS9zkWSZjrFkXsJ3Hcovs0v%2FMigjs0Ce0JR85qJQ00wxMeWQAg1NO5Qjb6%2F2v4MxAxAg%3D%3D)"
      ]
    },
    {
      "metadata": {
        "trusted": true,
        "id": "4fsv7ODIThlB"
      },
      "cell_type": "code",
      "source": [
        "class atariAgent():\n",
        "    \"\"\" Atari Agent contains the model and functions to predict and train the agent\"\"\"\n",
        "    def __init__(self,totalActions,scope = \"agent\"):\n",
        "        self.scope = scope\n",
        "        self.totalActions = totalActions\n",
        "        with tf.variable_scope(self.scope):\n",
        "            self.QModel()\n",
        "\n",
        "    def QModel(self):\n",
        "        \"\"\"Contains the model\"\"\"\n",
        "        self.Xin = tf.placeholder(shape=[None,84,84,4],dtype=tf.uint8,name='Xin')\n",
        "        self.y = tf.placeholder(shape=[None],dtype=tf.float32,name='yin')\n",
        "        self.actions = tf.placeholder(shape=[None],dtype=tf.int32,name='actions')\n",
        "\n",
        "        X = tf.to_float(self.Xin) / 255.0 # scale to [0,1]\n",
        "\n",
        "        # model starts\n",
        "        conv1 = tf.contrib.layers.conv2d(X,16,8,4,activation_fn=tf.nn.relu)\n",
        "\n",
        "        conv2 = tf.contrib.layers.conv2d(conv1,32,4,2,activation_fn=tf.nn.relu)\n",
        "\n",
        "        convOut = tf.contrib.layers.flatten(conv2)\n",
        "        fc1 = tf.contrib.layers.fully_connected(convOut,256,activation_fn=tf.nn.relu)\n",
        "        self.QValues = tf.contrib.layers.fully_connected(fc1,self.totalActions,activation_fn=None)\n",
        "\n",
        "        batchSize = tf.shape(self.Xin)[0]\n",
        "        yIndices = tf.range(batchSize) * self.totalActions + self.actions\n",
        "        self.predictedActions = tf.gather(tf.reshape(self.QValues,[-1]),yIndices)\n",
        "\n",
        "        #c alculates loss function\n",
        "        self.losses = tf.squared_difference(self.y, self.predictedActions)\n",
        "        self.loss = tf.reduce_mean(self.losses)\n",
        "\n",
        "        # training step\n",
        "        self.optimizer = tf.train.RMSPropOptimizer(0.00025,0.99)\n",
        "        self.trainStep = self.optimizer.minimize(self.loss, global_step=tf.train.get_global_step())\n",
        "\n",
        "    def play(self,sess,states):\n",
        "        \"\"\"runs the model for the given state and predicts the Q values\"\"\"\n",
        "        return sess.run(self.QValues,{self.Xin : states})\n",
        "\n",
        "    def train(self,sess,states,y,actions):\n",
        "        \"\"\"Trains the Agent on the given input and target values and returns the loss\n",
        "        \"\"\"\n",
        "        feed_dict = { self.Xin: states, self.y: y, self.actions: actions }\n",
        "        loss, _ = sess.run([self.loss, self.trainStep],feed_dict)\n",
        "\n",
        "        return loss"
      ],
      "execution_count": null,
      "outputs": []
    },
    {
      "metadata": {
        "id": "1KpL_a2NThlC"
      },
      "cell_type": "markdown",
      "source": [
        "## Using Experience Replay\n",
        "\n",
        "Using experience replay can make more efficient use of observed experience. Experience replay will help us to handle two things:\n",
        "\n",
        "### Avoid forgetting previous experiences\n",
        "\n",
        "At each time step, we receive a tuple (state, action, reward, new_state). We learn from it (we feed the tuple in our neural network), and then throw this experience. Our problem is that we give sequential samples from interactions with the environment to our neural network. And it tends to forget the previous experiences as it overwrites with new experiences For instance, if we are in the first level and then the second (which is totally different), our agent can forget how to behave in the first level.\n",
        "\n",
        "![](https://storage.googleapis.com/kagglesdsdata/datasets/374075/727251/mario.png?GoogleAccessId=web-data@kaggle-161607.iam.gserviceaccount.com&Expires=1570784462&Signature=spqD7dfEr2vushuVudWg0A%2FXvJ3x%2BQTLASLh9aGH3ngqnmqkuVM9vChG%2FZSH3YOlf0OCFmr2hoTMP44C%2FYrc164UtGOR2AKjvHs%2FDFUhuSWsOgtKR6bbknc2kcV%2FaySP56ZSReBeB%2B4EsMEE0DuD33g3T7kDdB9%2FI%2B0GydChszkfrBM8EvQvfHr6VncZpRABfls2oTNvxyMcd98%2Bydiy4jyFubvTzxb8BVjW64XlVKM0SYoIhxXyHx7suYIU9UsBf76PecbexwZaMtcNhNOsuwsJel6FUEpNkgutYnvpyfJ8Sw1L6CYLKk37%2FilK69PR4NXAqGdOSMD%2Fa54Uo1F4yQ%3D%3D)\n",
        "\n",
        "Our solution: create a “replay buffer.” This stores experience tuples while interacting with the environment, and then we sample a small batch of tuple to feed our neural network. As a consequence, it can be more efficient to make use of previous experience, by learning with it multiple times.\n",
        "\n",
        "Think of the replay buffer as a folder where every sheet is an experience tuple. You feed it by interacting with the environment. And then you take some random sheet to feed the neural network. This prevents the network from only learning about what it has immediately done.\n",
        "\n",
        "![](https://storage.googleapis.com/kagglesdsdata/datasets/374075/727251/erb.png?GoogleAccessId=web-data@kaggle-161607.iam.gserviceaccount.com&Expires=1570784480&Signature=pC5Cvc6abVZwfK3ENYogFFKhRvFuWNbmZftX7bDYEmURWLJ5hH6oUVugnaGlVCTJMiS8wS7frRwJQeyuZstkFze8fyN0f1vXVbXd5KVQibvcpVQK1tHaTBe3AGJly9C2PesC3OmRmWAAdxMmIYNh4lc4v8ZvcOshH3bp4HfVUTfEMKbb1tGqFFPWngLCJFYgb0RZUR0biH%2FQhoITNdSMAKIep58oiup0dSgxPygjysgVsAqrDWrVufL46fKbR8Rlr4mGMKNvZw0z%2BEkIJb4UtGiWdU2Wv67S%2FDIbEZ4k6k2YexO1jsKl%2Bt52gdUG2fJFTWqrpZ%2BMLdez%2Fsfn7aGcUA%3D%3D)\n",
        "\n",
        "### Reduce correlations between experiences\n",
        "\n",
        "We have another problem — we know that every action affects the next state. This outputs a sequence of experience tuples which can be highly correlated. If we train the network in sequential order, we risk our agent being influenced by the effect of this correlation.\n",
        "\n",
        "By sampling from the replay buffer at random, we can break this correlation. This prevents action values from oscillating or diverging catastrophically."
      ]
    },
    {
      "metadata": {
        "trusted": true,
        "id": "K5hVO8xEThlC"
      },
      "cell_type": "code",
      "source": [
        "from collections import namedtuple,deque\n",
        "\n",
        "def initExperienceReplay(env, initReplaySize: int, cell: namedtuple):\n",
        "    replayBuffer = deque()\n",
        "    state = env.reset()\n",
        "    state = preprocess(state)\n",
        "    state = np.stack([state]*4,axis=2)\n",
        "    print(\"Filling Experience memory of the agent\")\n",
        "    for i in range(initReplaySize):\n",
        "        action = env.action_space.sample()\n",
        "        nextState, reward, isDone, _ = env.step(action)\n",
        "        nextState = preprocess(nextState)\n",
        "        nextState = np.append(state[:,:,1:],nextState[:,:,np.newaxis],axis=2)\n",
        "        replayBuffer.append(cell(state,reward,action,nextState,isDone))\n",
        "        if(isDone):\n",
        "            state = env.reset()\n",
        "            state = preprocess(state)\n",
        "            state = np.stack([state]*4,axis=2)\n",
        "        else:\n",
        "            state = nextState\n",
        "\n",
        "    env.close()\n",
        "    print(\"Filled memory of size {}\".format(len(replayBuffer)))\n",
        "    return replayBuffer"
      ],
      "execution_count": null,
      "outputs": []
    },
    {
      "metadata": {
        "id": "3mFg0U4KThlD"
      },
      "cell_type": "markdown",
      "source": [
        "## Using Separate Target Network\n",
        "\n",
        "The third major addition to the DQN that makes it unique is the utilization of a second network during the training procedure. This second network is used to generate the target-Q values that will be used to compute the loss for every action during training.\n",
        "\n",
        "### Why not use just use one network for both estimations?\n",
        "\n",
        "The issue is that at every step of training, the Q-network’s values shift, and if we are using a constantly shifting set of values to adjust our network values, then the value estimations can easily spiral out of control. The network can become destabilized by falling into feedback loops between the target and estimated Q-values. In order to mitigate that risk, the target network’s weights are fixed, and only periodically or slowly updated to the primary Q-networks values. In this way training can proceed in a more stable manner."
      ]
    },
    {
      "metadata": {
        "trusted": true,
        "id": "Jq83_lYkThlD"
      },
      "cell_type": "code",
      "source": [
        "def copyParameters(sess,targetModel,QModel):\n",
        "    params1 = [var for var in tf.trainable_variables() if var.name.startswith(targetModel.scope)]\n",
        "    params1 = sorted(params1,key=lambda var: var.name)\n",
        "    params2 = [var for var in tf.trainable_variables() if var.name.startswith(QModel.scope)]\n",
        "    params2 = sorted(params2,key=lambda var: var.name)\n",
        "    copies = []\n",
        "    for p1,p2 in zip(params1,params2):\n",
        "        copy = p1.assign(p2)\n",
        "        copies.append(copy)\n",
        "    sess.run(copies)"
      ],
      "execution_count": null,
      "outputs": []
    },
    {
      "metadata": {
        "id": "wDyUbmbuThlD"
      },
      "cell_type": "markdown",
      "source": [
        "## Action Selection\n",
        "\n",
        "Still simply using the $\\epsilon$-greedy policy."
      ]
    },
    {
      "metadata": {
        "trusted": true,
        "id": "HHFAccXAThlE"
      },
      "cell_type": "code",
      "source": [
        "def EGreedyPolicy(epsilon,QValues):\n",
        "    numActions = QValues.shape[1]\n",
        "    probs = np.ones(numActions, dtype=float) * epsilon / numActions\n",
        "    best_action = np.argmax(QValues)\n",
        "\n",
        "    probs[best_action] += (1.0 - epsilon)\n",
        "\n",
        "    optimizedAction = np.random.choice(numActions,p=probs)\n",
        "    return optimizedAction"
      ],
      "execution_count": null,
      "outputs": []
    },
    {
      "metadata": {
        "id": "YXAbwmLEThlE"
      },
      "cell_type": "markdown",
      "source": [
        "## Train It\n",
        "\n",
        "![](https://storage.googleapis.com/kagglesdsdata/datasets/374075/727251/update.png?GoogleAccessId=web-data@kaggle-161607.iam.gserviceaccount.com&Expires=1570784518&Signature=D0DXdzE7YyS6kkI1dbSL2zPE43%2Fl%2B4MYqpaKSth3Gss2QC6D7qENLtvEi5zUN3c0ZnSg2EqCNSJgP0d766vwRFZrTr2xYlou5%2Bv03UN86LEHiCqSp2ksRLYy2aMX%2FrpWg7dHjPDfnmkkmQcTKCObnr7No6eORyqbdriPfUMGBBCmeQtZQvUltOzvP%2Fs1VuiBo4G3riJwMgbG7LDuFvxnzPKBvQxQCczOLEtHK6n3NTHolib71crBTGkrPWHwZLWj%2BpkavDBGJzM2OBWokZwBlvhuGqRsbzs8lEK2pZbWOKZtPqeuRIUmRWPG1N0Ezw4NV4bzkIIt4eHPWqOkJ0pE%2Bw%3D%3D)"
      ]
    },
    {
      "metadata": {
        "trusted": true,
        "id": "fTFjapbqThlE"
      },
      "cell_type": "code",
      "source": [
        "numEpisodes = 5  # determines the number of episode\n",
        "initReplaySize = 5000\n",
        "replaySize = 10000\n",
        "batchSize = 32\n",
        "startE = 1.0  # for epsilon decay, start from 1.0\n",
        "endE = 0.1  # for epsilon decay, end with 0.1\n",
        "annealingSteps = 5000  # for epsilon decay, determines the decay step\n",
        "copyFrequency = 10000  # determines the update frequency\n",
        "videoFrequency = 5000\n",
        "discountFactor = 0.99  # discounted factor\n",
        "checkpointDir = \"checkpoint\"\n",
        "monitorDir = \"monitor\""
      ],
      "execution_count": null,
      "outputs": []
    },
    {
      "metadata": {
        "trusted": true,
        "id": "_IV0jHtIThlF",
        "colab": {
          "base_uri": "https://localhost:8080/"
        },
        "outputId": "7b1ffcdb-d2af-46e1-ea6e-5bfc7eb4f2b2"
      },
      "cell_type": "code",
      "source": [
        "!pip install gym[classic_control]\n",
        "import gym\n",
        "from gym import wrappers  # Import wrappers from gym directly\n",
        "\n",
        "def trainAgent():\n",
        "    #start environment\n",
        "    env = gym.make('BreakoutDeterministic-v4')\n",
        "\n",
        "    totalActions = env.action_space.n\n",
        "\n",
        "    tf.reset_default_graph()\n",
        "\n",
        "    # initialize target and evaluation model\n",
        "    targetModel = atariAgent(totalActions,scope=\"targetModel\")\n",
        "    QModel = atariAgent(totalActions,scope=\"QModel\")\n",
        "\n",
        "    if not os.path.exists(checkpointDir):\n",
        "        os.makedirs(checkpointDir)\n",
        "    if not os.path.exists(monitorDir):\n",
        "        os.makedirs(monitorDir)\n",
        "\n",
        "    checkpoint = os.path.join(checkpointDir,\"model\")\n",
        "    monitor = os.path.join(monitorDir,\"game\")\n",
        "\n",
        "    with tf.Session() as sess:\n",
        "        sess.run(tf.global_variables_initializer())\n",
        "        saver = tf.train.Saver()\n",
        "\n",
        "        # Use wrappers.Monitor instead of gym.wrappers.Monitor\n",
        "        env = wrappers.Monitor(env, directory=monitor, video_callable=lambda totalStep: totalStep % \\\n",
        "                      videoFrequency==0, resume=True)\n",
        "\n",
        "        state = env.reset()\n",
        "\n",
        "        # ... rest of your code ...\n",
        "\n",
        "        ckpt = tf.train.latest_checkpoint(checkpointDir)\n",
        "        if ckpt:\n",
        "            saver.restore(sess,ckpt)\n",
        "            totalStep = 0\n",
        "            print(\"Existing checkpoint {} restored...\".format(ckpt))\n",
        "        else:\n",
        "            totalStep = 0\n",
        "\n",
        "        cell = namedtuple(\"cell\",\"state reward action nextState isDone\")\n",
        "\n",
        "        replayMemory = initExperienceReplay(env,initReplaySize,cell)\n",
        "\n",
        "        epsilonValues = np.linspace(startE,endE,num=annealingSteps)\n",
        "\n",
        "        episodeLengths = []\n",
        "        episodeRewards = []\n",
        "\n",
        "        print(\"\\n---------- Main Loop ----------\")\n",
        "\n",
        "        for episode in range(numEpisodes):\n",
        "            state = env.reset()\n",
        "            state = preprocess(state)\n",
        "            state = np.stack([state] * 4, axis=2)\n",
        "\n",
        "            loss = None\n",
        "            episodeLength = 0\n",
        "            totalReward = 0.\n",
        "\n",
        "            while(True):\n",
        "                if(totalStep%copyFrequency == 0):\n",
        "                    copyParameters(sess,targetModel,QModel)\n",
        "                    print(\"\\nTarget Model updated...\")\n",
        "\n",
        "                epsilon = epsilonValues[min(totalStep, annealingSteps-1)]\n",
        "                QValues = QModel.play(sess,np.expand_dims(state,0))\n",
        "                bestAction = EGreedyPolicy(epsilon,QValues)\n",
        "\n",
        "                nextState,reward,isDone,_ = env.step(bestAction)\n",
        "                nextState = preprocess(nextState)\n",
        "                nextState = np.append(state[:,:,1:],nextState[:,:,np.newaxis],axis=2)\n",
        "\n",
        "                totalReward += reward\n",
        "\n",
        "                if(len(replayMemory) == replaySize):\n",
        "                    replayMemory.popleft()\n",
        "\n",
        "                replayMemory.append(cell(state,reward,bestAction,nextState,isDone))\n",
        "\n",
        "                indices = np.random.choice(len(replayMemory)-1,batchSize,replace=False)\n",
        "                batch = [replayMemory[i] for i in indices]\n",
        "                states,rewards,actions,nextStates,isDones = map(np.array,zip(*batch))\n",
        "\n",
        "                # targetmodel prediction\n",
        "                tQValues = targetModel.play(sess,nextStates)\n",
        "                targetY = rewards + (1 - isDones) * discountFactor * np.amax(tQValues,axis=1)\n",
        "\n",
        "                # gradient descent step\n",
        "                loss = QModel.train(sess,states,targetY,actions)\n",
        "                episodeLength += 1\n",
        "                totalStep += 1\n",
        "\n",
        "                if(isDone):\n",
        "                    episodeRewards.append(reward)\n",
        "                    episodeLengths.append(episodeLength)\n",
        "                    print(\"\\r[Episode {}]\\tGlobal step: {} Final reward: {} Total reward: {} episode length: {} loss: {}\"\\\n",
        "                          .format(episode,totalStep,reward,totalReward,episodeLength,loss), end=\"\", flush=True)\n",
        "\n",
        "                    saver.save(tf.get_default_session(), checkpoint)\n",
        "                    break\n",
        "\n",
        "                else:\n",
        "                    state = nextState\n",
        "                    totalStep += 1"
      ],
      "execution_count": null,
      "outputs": [
        {
          "output_type": "stream",
          "name": "stdout",
          "text": [
            "Requirement already satisfied: gym[classic_control] in /usr/local/lib/python3.10/dist-packages (0.25.2)\n",
            "Requirement already satisfied: numpy>=1.18.0 in /usr/local/lib/python3.10/dist-packages (from gym[classic_control]) (1.25.2)\n",
            "Requirement already satisfied: cloudpickle>=1.2.0 in /usr/local/lib/python3.10/dist-packages (from gym[classic_control]) (2.2.1)\n",
            "Requirement already satisfied: gym-notices>=0.0.4 in /usr/local/lib/python3.10/dist-packages (from gym[classic_control]) (0.0.8)\n",
            "Collecting pygame==2.1.0 (from gym[classic_control])\n",
            "  Downloading pygame-2.1.0-cp310-cp310-manylinux_2_17_x86_64.manylinux2014_x86_64.whl (18.3 MB)\n",
            "\u001b[2K     \u001b[90m━━━━━━━━━━━━━━━━━━━━━━━━━━━━━━━━━━━━━━━━\u001b[0m \u001b[32m18.3/18.3 MB\u001b[0m \u001b[31m36.3 MB/s\u001b[0m eta \u001b[36m0:00:00\u001b[0m\n",
            "\u001b[?25hInstalling collected packages: pygame\n",
            "  Attempting uninstall: pygame\n",
            "    Found existing installation: pygame 2.6.0\n",
            "    Uninstalling pygame-2.6.0:\n",
            "      Successfully uninstalled pygame-2.6.0\n",
            "Successfully installed pygame-2.1.0\n"
          ]
        }
      ]
    },
    {
      "metadata": {
        "trusted": true,
        "id": "zFv7kVo3ThlF",
        "colab": {
          "base_uri": "https://localhost:8080/"
        },
        "outputId": "1a752fb5-bb1a-46bc-f8a7-65975d354566"
      },
      "cell_type": "code",
      "source": [
        "# ready for training\n",
        "!apt install -y ffmpeg"
      ],
      "execution_count": null,
      "outputs": [
        {
          "output_type": "stream",
          "name": "stdout",
          "text": [
            "Reading package lists... Done\n",
            "Building dependency tree... Done\n",
            "Reading state information... Done\n",
            "ffmpeg is already the newest version (7:4.4.2-0ubuntu0.22.04.1).\n",
            "0 upgraded, 0 newly installed, 0 to remove and 45 not upgraded.\n"
          ]
        }
      ]
    },
    {
      "cell_type": "code",
      "source": [
        "!pip install tensorflow==1.15 # Install TF 1.x\n",
        "import tensorflow as tf\n",
        "\n",
        "def trainAgent():\n",
        "    #start environment\n",
        "    env = gym.make('BreakoutDeterministic-v4')\n",
        "\n",
        "    totalActions = env.action_space.n\n",
        "\n",
        "    tf.reset_default_graph() # Reset the default graph in TF 1.x"
      ],
      "metadata": {
        "colab": {
          "base_uri": "https://localhost:8080/"
        },
        "id": "XlhtcqwOYsjC",
        "outputId": "e2a5e7a5-8b7b-4f6c-b0d8-66869ef3c1a9"
      },
      "execution_count": null,
      "outputs": [
        {
          "output_type": "stream",
          "name": "stdout",
          "text": [
            "\u001b[31mERROR: Could not find a version that satisfies the requirement tensorflow==1.15 (from versions: 2.8.0rc0, 2.8.0rc1, 2.8.0, 2.8.1, 2.8.2, 2.8.3, 2.8.4, 2.9.0rc0, 2.9.0rc1, 2.9.0rc2, 2.9.0, 2.9.1, 2.9.2, 2.9.3, 2.10.0rc0, 2.10.0rc1, 2.10.0rc2, 2.10.0rc3, 2.10.0, 2.10.1, 2.11.0rc0, 2.11.0rc1, 2.11.0rc2, 2.11.0, 2.11.1, 2.12.0rc0, 2.12.0rc1, 2.12.0, 2.12.1, 2.13.0rc0, 2.13.0rc1, 2.13.0rc2, 2.13.0, 2.13.1, 2.14.0rc0, 2.14.0rc1, 2.14.0, 2.14.1, 2.15.0rc0, 2.15.0rc1, 2.15.0, 2.15.0.post1, 2.15.1, 2.16.0rc0, 2.16.1, 2.16.2, 2.17.0rc0, 2.17.0rc1)\u001b[0m\u001b[31m\n",
            "\u001b[0m\u001b[31mERROR: No matching distribution found for tensorflow==1.15\u001b[0m\u001b[31m\n",
            "\u001b[0m"
          ]
        }
      ]
    },
    {
      "metadata": {
        "id": "0pzbEBowThlG"
      },
      "cell_type": "markdown",
      "source": [
        "## Google's Video\n",
        "\n",
        "Google DeepMind's Deep Q-learning playing Atari Breakout\n",
        "\n",
        "https://www.youtube.com/watch?v=V1eYniJ0Rnk"
      ]
    }
  ],
  "metadata": {
    "kernelspec": {
      "language": "python",
      "display_name": "Python 3",
      "name": "python3"
    },
    "language_info": {
      "pygments_lexer": "ipython3",
      "nbconvert_exporter": "python",
      "version": "3.6.4",
      "file_extension": ".py",
      "codemirror_mode": {
        "name": "ipython",
        "version": 3
      },
      "name": "python",
      "mimetype": "text/x-python"
    },
    "colab": {
      "provenance": [],
      "include_colab_link": true
    }
  },
  "nbformat": 4,
  "nbformat_minor": 0
}